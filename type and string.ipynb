{
 "cells": [
  {
   "cell_type": "code",
   "execution_count": 12,
   "id": "d1b627c7",
   "metadata": {},
   "outputs": [
    {
     "name": "stdout",
     "output_type": "stream",
     "text": [
      "\"안녕하세요\"라고 말했습니다\n",
      "\n",
      "\"안녕하세요\"라고 말했습니다\n",
      "'안녕하세요'라고 말했습니다\n",
      "\"안녕하세요\"라고 \ttest\t말했습니다\n",
      "\\ \n"
     ]
    }
   ],
   "source": [
    "x = 1\n",
    "print(\"\\\"안녕하세요\\\"라고 말했습니다\\n\")\n",
    "print('\"안녕하세요\"라고 말했습니다')\n",
    "print(\"'안녕하세요'라고 말했습니다\")\n",
    "print('\"안녕하세요\"라고 \\ttest\\t말했습니다')\n",
    "print(\"\\\\ \")"
   ]
  },
  {
   "cell_type": "code",
   "execution_count": 19,
   "id": "83d56427",
   "metadata": {},
   "outputs": [
    {
     "name": "stdout",
     "output_type": "stream",
     "text": [
      "동해물과 백두산이 \n",
      "마르고 닳도록 \n",
      "하느님이\n",
      "동해물과 백두산이 \n",
      "마르고 닳도록 \n",
      "하느님이\n",
      "동해물과 백두산이 \n",
      "마르고 닳도록 \n",
      "하느님이\n"
     ]
    }
   ],
   "source": [
    "#multi line test\n",
    "print('''동해물과 백두산이 \n",
    "마르고 닳도록 \n",
    "하느님이''')\n",
    "print(\"\"\"동해물과 백두산이 \n",
    "마르고 닳도록 \n",
    "하느님이\"\"\")\n",
    "a_str = \"\"\"동해물과 백두산이 \n",
    "마르고 닳도록 \n",
    "하느님이\"\"\"\n",
    "print(a_str)"
   ]
  },
  {
   "cell_type": "code",
   "execution_count": 24,
   "id": "d9d7cc5e",
   "metadata": {},
   "outputs": [
    {
     "name": "stdout",
     "output_type": "stream",
     "text": [
      "안녕하세요\n",
      "안녕하세요\n",
      "안녕하세요안녕하세요안녕하세요\n"
     ]
    }
   ],
   "source": [
    "print(\"안녕하세요\")\n",
    "print(\"안녕\" + \"하세요\")\n",
    "print(\"안녕하세요\" *3)"
   ]
  },
  {
   "cell_type": "code",
   "execution_count": 30,
   "id": "1d1b6d43",
   "metadata": {},
   "outputs": [
    {
     "name": "stdout",
     "output_type": "stream",
     "text": [
      "안녕하세요\n",
      "안\n",
      "녕\n",
      "하\n",
      "세\n",
      "요\n",
      "!\n",
      "안\n",
      "요\n",
      "세\n",
      "하\n",
      "녕\n",
      "녕\n"
     ]
    }
   ],
   "source": [
    "print(\"안녕하세요\")\n",
    "print(\"안녕하세요\"[0])\n",
    "print(\"안녕하세요\"[1])\n",
    "print(\"안녕하세요\"[2])\n",
    "print(\"안녕하세요\"[3])\n",
    "print(\"안녕하세요\"[4])\n",
    "print(\"안녕하세요!\"[5])\n",
    "\n",
    "print(\"안녕하세요\"[0]) #0번지 값\n",
    "print(\"안녕하세요\"[-1])\n",
    "print(\"안녕하세요\"[-2])\n",
    "print(\"안녕하세요\"[-3])\n",
    "print(\"안녕하세요\"[-4])\n",
    "print(\"안녕하세요!\"[-5])"
   ]
  },
  {
   "cell_type": "code",
   "execution_count": 40,
   "id": "87841257",
   "metadata": {},
   "outputs": [
    {
     "name": "stdout",
     "output_type": "stream",
     "text": [
      "안녕하세요\n",
      "안 하\n",
      "녕하세\n",
      "5\n"
     ]
    }
   ],
   "source": [
    "str = \"안녕하세요\"\n",
    "print(str)\n",
    "print(str[0],str[2]) #print 기본 스페이스바를 포함\n",
    "print(str[1:4])\n",
    "print(len(str))"
   ]
  },
  {
   "cell_type": "code",
   "execution_count": 53,
   "id": "8963f22f",
   "metadata": {},
   "outputs": [
    {
     "name": "stdout",
     "output_type": "stream",
     "text": [
      "AI 빅데이터 SW 전문가 과정\n",
      "AI\n",
      "\n",
      "I 빅\n",
      "AI 빅\n",
      " 전문가 과정\n",
      "-17\n"
     ]
    }
   ],
   "source": [
    "str = \"AI 빅데이터 SW 전문가 과정\"\n",
    "print(str)\n",
    "print(str[0], str[1], sep =\"\", end='\\n\\n')\n",
    "print(str[1:4])\n",
    "print(str[:4])\n",
    "print(str[10:])\n",
    "a = -len(str)\n",
    "print(a)"
   ]
  }
 ],
 "metadata": {
  "kernelspec": {
   "display_name": "Python 3",
   "language": "python",
   "name": "python3"
  },
  "language_info": {
   "codemirror_mode": {
    "name": "ipython",
    "version": 3
   },
   "file_extension": ".py",
   "mimetype": "text/x-python",
   "name": "python",
   "nbconvert_exporter": "python",
   "pygments_lexer": "ipython3",
   "version": "3.8.8"
  }
 },
 "nbformat": 4,
 "nbformat_minor": 5
}
