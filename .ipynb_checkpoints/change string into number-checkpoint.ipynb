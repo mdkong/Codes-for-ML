{
 "cells": [
  {
   "cell_type": "code",
   "execution_count": 14,
   "id": "7b9c1006",
   "metadata": {},
   "outputs": [
    {
     "name": "stdout",
     "output_type": "stream",
     "text": [
      "숫자 입력하세요: 5\n",
      "<class 'int'>\n",
      "숫자 입력하세요: 6\n",
      "<class 'int'>\n",
      "11\n",
      "-1\n",
      "30\n",
      "0\n",
      "문자열을 입력하세요: 123434\n",
      "<class 'str'>\n",
      "123434123434123434123434123434123434\n"
     ]
    }
   ],
   "source": [
    "num_1=  int(input(\"숫자 입력하세요: \"))\n",
    "print(type(num_1))\n",
    "num_2=  int(input(\"숫자 입력하세요: \"))\n",
    "print(type(num_2))\n",
    "\n",
    "print(num_1 + num_2)\n",
    "print(num_1 - num_2)\n",
    "print(num_1 * num_2)\n",
    "print(num_1 // num_2)\n",
    "\n",
    "str_1 = input(\"문자열을 입력하세요: \")\n",
    "print(type(str_1))\n",
    "n_len = len(str_1)\n",
    "print(str_1*n_len)\n",
    "\n",
    "# print(num_1, num_2)\n",
    "# c = num_1\n",
    "# num_1 = num_2\n",
    "# num_2 = c\n",
    "# print(num_1, num_2)"
   ]
  }
 ],
 "metadata": {
  "kernelspec": {
   "display_name": "Python 3",
   "language": "python",
   "name": "python3"
  },
  "language_info": {
   "codemirror_mode": {
    "name": "ipython",
    "version": 3
   },
   "file_extension": ".py",
   "mimetype": "text/x-python",
   "name": "python",
   "nbconvert_exporter": "python",
   "pygments_lexer": "ipython3",
   "version": "3.8.8"
  }
 },
 "nbformat": 4,
 "nbformat_minor": 5
}
