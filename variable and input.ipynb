{
 "cells": [
  {
   "cell_type": "code",
   "execution_count": 8,
   "id": "7a354f75",
   "metadata": {},
   "outputs": [
    {
     "name": "stdout",
     "output_type": "stream",
     "text": [
      "3/2 =  1.5\n",
      "3/2 =  1\n",
      "3/2 =  1\n"
     ]
    }
   ],
   "source": [
    "print(\"3/2 = \", 3/2)\n",
    "print(\"3/2 = \", 3//2)\n",
    "print(\"3/2 = \", 3%2)"
   ]
  },
  {
   "cell_type": "code",
   "execution_count": 18,
   "id": "d2ebd4d3",
   "metadata": {},
   "outputs": [
    {
     "name": "stdout",
     "output_type": "stream",
     "text": [
      "10 + 5 = 15\n",
      "10 - 5 = 5\n",
      "10 * 5 = 50\n",
      "10 / 5 = 2.0\n",
      "10 // 5 = 2\n",
      "10 % 5 = 0\n",
      "; end of line\n"
     ]
    }
   ],
   "source": [
    "print(\"10 + 5 =\", 10+5)\n",
    "print(\"10 - 5 =\", 10-5)\n",
    "print(\"10 * 5 =\", 10*5)\n",
    "print(\"10 / 5 =\", 10/5)\n",
    "print(\"10 // 5 =\", 10//5)\n",
    "print(\"10 % 5 =\", 10%5); print(\"; end of line\")"
   ]
  },
  {
   "cell_type": "code",
   "execution_count": 23,
   "id": "8c53f4eb",
   "metadata": {},
   "outputs": [
    {
     "name": "stdout",
     "output_type": "stream",
     "text": [
      "num = 130\n",
      "str : abcdtestabcdtest\n"
     ]
    }
   ],
   "source": [
    "num = 100\n",
    "num += 10\n",
    "num += 20\n",
    "print(\"num =\", num)\n",
    "\n",
    "str = \"abcd\"\n",
    "str += \"test\"\n",
    "str *= 2\n",
    "print(\"str :\", str) "
   ]
  },
  {
   "cell_type": "code",
   "execution_count": null,
   "id": "937d532e",
   "metadata": {},
   "outputs": [],
   "source": [
    "str = input(\"문자열 입력 >\")\n",
    "print(str)\n",
    "#print(str[0], str[-1])\n",
    "\n",
    "s_len = len(str)\n",
    "print(s_len, str[0], str[s_len -1])\n",
    "print(type(str))"
   ]
  },
  {
   "cell_type": "code",
   "execution_count": null,
   "id": "220d7e30",
   "metadata": {},
   "outputs": [],
   "source": [
    "str_1 = int(input(\"숫자 입력하세요, num_1=\"))\n",
    "str_2 = int(input(\"숫자 입력하세요, num_2=\"))\n",
    "print(str_1 +str_2)"
   ]
  }
 ],
 "metadata": {
  "kernelspec": {
   "display_name": "Python 3",
   "language": "python",
   "name": "python3"
  },
  "language_info": {
   "codemirror_mode": {
    "name": "ipython",
    "version": 3
   },
   "file_extension": ".py",
   "mimetype": "text/x-python",
   "name": "python",
   "nbconvert_exporter": "python",
   "pygments_lexer": "ipython3",
   "version": "3.8.8"
  }
 },
 "nbformat": 4,
 "nbformat_minor": 5
}
